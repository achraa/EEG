{
 "cells": [
  {
   "cell_type": "code",
   "execution_count": null,
   "id": "c446fdaa",
   "metadata": {},
   "outputs": [],
   "source": [
    "import os\n",
    "import mne\n",
    "import numpy as np\n",
    "\n",
    "# Impor SEMUA file Python Anda\n",
    "import variables as v\n",
    "from dataset import load_dataset, load_labels, format_labels, load_channels, convert_to_epochs\n",
    "import features as ft    \n",
    "import classifiers as clfs\n",
    "import genetic_algrthm as ga"
   ]
  },
  {
   "cell_type": "code",
   "execution_count": null,
   "id": "088cb009",
   "metadata": {},
   "outputs": [],
   "source": []
  },
  {
   "cell_type": "code",
   "execution_count": 4,
   "id": "f0dd6a55",
   "metadata": {},
   "outputs": [],
   "source": [
    "\n",
    "data_type = \"ica_filtered\"\n",
    "test_type = \"Arithmetic\""
   ]
  },
  {
   "cell_type": "code",
   "execution_count": 5,
   "id": "4a744589",
   "metadata": {},
   "outputs": [
    {
     "name": "stdout",
     "output_type": "stream",
     "text": [
      "Data of type ica_filtered doesn't have test type Arithmetic\n"
     ]
    },
    {
     "ename": "NameError",
     "evalue": "name 'split_data' is not defined",
     "output_type": "error",
     "traceback": [
      "\u001b[31m---------------------------------------------------------------------------\u001b[39m",
      "\u001b[31mNameError\u001b[39m                                 Traceback (most recent call last)",
      "\u001b[36mCell\u001b[39m\u001b[36m \u001b[39m\u001b[32mIn[5]\u001b[39m\u001b[32m, line 2\u001b[39m\n\u001b[32m      1\u001b[39m dataset_ = load_dataset(data_type=data_type, test_type=test_type)\n\u001b[32m----> \u001b[39m\u001b[32m2\u001b[39m dataset = \u001b[43msplit_data\u001b[49m(dataset_, v.SFREQ)\n",
      "\u001b[31mNameError\u001b[39m: name 'split_data' is not defined"
     ]
    }
   ],
   "source": [
    "dataset_ = load_dataset(data_type=data_type, test_type=test_type)\n",
    "dataset = split_data(dataset_, v.SFREQ)"
   ]
  },
  {
   "cell_type": "code",
   "execution_count": null,
   "id": "1bbf0cd1",
   "metadata": {},
   "outputs": [],
   "source": []
  }
 ],
 "metadata": {
  "kernelspec": {
   "display_name": ".venv",
   "language": "python",
   "name": "python3"
  },
  "language_info": {
   "codemirror_mode": {
    "name": "ipython",
    "version": 3
   },
   "file_extension": ".py",
   "mimetype": "text/x-python",
   "name": "python",
   "nbconvert_exporter": "python",
   "pygments_lexer": "ipython3",
   "version": "3.11.8"
  }
 },
 "nbformat": 4,
 "nbformat_minor": 5
}
